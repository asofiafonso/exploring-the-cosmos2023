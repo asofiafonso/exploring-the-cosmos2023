{
 "cells": [
  {
   "cell_type": "markdown",
   "metadata": {},
   "source": [
    "# COSMOS 2020 Machine Learning Analysis - Margarida Pólvora Fonseca\n",
    "\n",
    "The objective of this notebook is to use a machine learning regression model on the data of the COSMOS2020 catalog to estimate five main physical characteristics of galaxies, which are:\n",
    "* Stellar Mass\n",
    "* Age\n",
    "* Stellar Formation Rate\n",
    "* Dust Content\n",
    "* Metallicity\n",
    "\n",
    "## Data Pre-Processing\n",
    "In Topcat, the Classic catalog is crossmatched with the FARMER catalog, to result in a table that contains only sources present in the FARMER but not in the Classic. This table is concatenated to the original Classic catalog. The resulting table is filtered to only contain data from Flux and Magnitude at 3'' aperture, the respective flags from each band, and the data from the LePhare method.\n",
    "\n",
    "We first import the necessary python libraries, as well as the .csv file with the data we are going to use."
   ]
  },
  {
   "cell_type": "code",
   "execution_count": 2,
   "metadata": {},
   "outputs": [],
   "source": [
    "#Import the libraries\n",
    "import pandas as pd\n",
    "import numpy as np\n",
    "import catboost as cb\n",
    "import shap\n",
    "import seaborn as sns\n",
    "\n",
    "import matplotlib.pyplot as plt\n",
    "from sklearn.model_selection import train_test_split\n",
    "from sklearn.metrics import r2_score"
   ]
  },
  {
   "cell_type": "code",
   "execution_count": 3,
   "metadata": {},
   "outputs": [],
   "source": [
    "# Pedro Cunha function's\n",
    "def metric_scores_rgr(x,y,redshift):\n",
    "  \"\"\"Computes the NMAD, bias, outlier fraction for the regression tasks\n",
    "  x: ground-truth data\n",
    "  y: predicted data\n",
    "  redshift: True or False\n",
    "  \"\"\"\n",
    "  if redshift:\n",
    "    met = np.abs(pd.Series(y-x))\n",
    "    f_out = met/(1+x.astype(np.float32))\n",
    "    nmad=1.48*np.median(f_out)\n",
    "    bias = np.median(f_out)\n",
    "    y_outlier = pd.Series(np.where(f_out > 0.15, 'outlier', 'not outlier'))\n",
    "  else:\n",
    "    met = np.abs(pd.Series(y-x))\n",
    "    nmad=1.48*np.median(met)\n",
    "    bias = np.median(met)\n",
    "    y_outlier = pd.Series(np.where(met > 0.3, 'outlier', 'not outlier'))\n",
    "  print(\"Outliers: \\n\", y_outlier.value_counts())\n",
    "  print(\"\\n Bias: \\n\", bias)\n",
    "  print(\"\\n NMAD score: \\n\", nmad)\n",
    "  print('\\n R2 Test: \\n', r2_score(x, y))\n",
    "\n",
    "def plot_feature_importance(importance,names,model_type,number_of_columns):\n",
    "  \"\"\"Plots feature importance\n",
    "  importance: features importance output from model\n",
    "  names: features names\n",
    "  model_type: name of the model used to compute features importance\n",
    "  number_of_columns: number of columns in the graph\n",
    "  \"\"\"\n",
    "  #Create arrays from feature importance and feature names\n",
    "  feature_importance = np.array(importance)\n",
    "  feature_names = np.array(names)\n",
    "  #Create a DataFrame using a Dictionary\n",
    "  data={'feature_names':feature_names,'feature_importance':feature_importance}\n",
    "  fi_df = pd.DataFrame(data)\n",
    "  #Sort the DataFrame in order decreasing feature importance\n",
    "  fi_df.sort_values(by=['feature_importance'], ascending=False,inplace=True)\n",
    "  fi_df = fi_df.head(number_of_columns)\n",
    "  #Define size of bar plot\n",
    "  plt.figure(figsize=(10,5))\n",
    "  #Plot Searborn bar chart\n",
    "  sns.barplot(x=fi_df['feature_importance'], y=fi_df['feature_names'])\n",
    "  #Add chart labels\n",
    "  plt.title(model_type + ' Feature Importance')\n",
    "  plt.xlabel('Feature Importance')\n",
    "  plt.ylabel('Feature Names')\n",
    "  plt.show"
   ]
  },
  {
   "cell_type": "code",
   "execution_count": 12,
   "metadata": {},
   "outputs": [],
   "source": [
    "# My functions\n",
    "def shap_explainer(model_name,features_values):\n",
    "    '''Creates a SHAP explainer graph with the top 10 values\n",
    "    model_name: name of the machine learning model\n",
    "    features_values: x values used in testing\n",
    "    '''\n",
    "    explainer = shap.TreeExplainer(model_name)\n",
    "    shap_values = explainer.shap_values(features_values)\n",
    "    shap.summary_plot(shap_values, features_values, max_display = 10, plot_size=[5,5])\n",
    "\n",
    "def data_visualization(target_name,x,y,redshift):\n",
    "    '''Graph\n",
    "    target_name: name of the studied target\n",
    "    x: ground-truth data\n",
    "    y: predicted data\n",
    "    redshift: True or False\n",
    "    '''\n",
    "    plt.scatter(x,y,s=0.5)\n",
    "    plt.xlabel(f'catalog {target_name} value')\n",
    "    plt.ylabel(f'machine learning {target_name} predicted value')\n",
    "    plt.title(target_name)\n",
    "    plt.axline((0, 0), slope=1, color='black')\n",
    "    if redshift:\n",
    "        plt.plot([min(y)-0.15*(1+min(y)),max(y)-0.15*(1+max(y))],[min(y),max(y)], color='red', linestyle='dashed')\n",
    "        plt.plot([min(y)+0.15*(1+min(y)),max(y)+0.15*(1+max(y))],[min(y),max(y)], color='red', linestyle='dashed')\n",
    "    else:\n",
    "        plt.plot([min(x),max(x)],[min(x)-0.3,max(x)-0.3], color='red', linestyle='dashed')\n",
    "        plt.plot([min(x),max(x)],[min(x)+0.3,max(x)+0.3], color='red', linestyle='dashed')"
   ]
  },
  {
   "cell_type": "code",
   "execution_count": 4,
   "metadata": {},
   "outputs": [],
   "source": [
    "#Import the Catalog\n",
    "catalog = pd.read_csv(r'D:\\Internship IAstro\\python output\\new data\\COSMOS2020_CF_LEPHARE_GALAXIES_MAGFLUX3.csv')"
   ]
  },
  {
   "cell_type": "markdown",
   "metadata": {},
   "source": [
    "--------------------\n",
    "## Data Preparation"
   ]
  },
  {
   "cell_type": "code",
   "execution_count": 5,
   "metadata": {},
   "outputs": [],
   "source": [
    "# Optional: removes rows that are flagged in the different bands\n",
    "catalog = catalog[catalog.filter(like='_FLAGS').apply(set, axis=1).eq({0})]"
   ]
  },
  {
   "cell_type": "code",
   "execution_count": 6,
   "metadata": {},
   "outputs": [],
   "source": [
    "# Filters catalog columns\n",
    "features_list = []\n",
    "for col_name in list(catalog.columns.values):\n",
    "        if '_APER3' in col_name: #Magnitude and Flux for Apperture 3\n",
    "                features_list.append(col_name)\n",
    "\n",
    "# List of Targets\n",
    "targets_list = ['lp_age','lp_dust','lp_mass_best','lp_zBEST','lp_SFR_best']\n",
    "\n",
    "#Creates a new catalog with the columns wanted and removes rows with null values in any column\n",
    "columns = features_list + targets_list\n",
    "catalog = catalog[columns].dropna()\n",
    "# catalog = catalog[catalog[targets_list].notna()]"
   ]
  },
  {
   "cell_type": "markdown",
   "metadata": {},
   "source": [
    "--------------------\n",
    "## Machine Learning: Single-output Regression for LePhare using Catboost\n",
    "### Star-Formation-Rate ('lp_SFR_best')"
   ]
  },
  {
   "cell_type": "code",
   "execution_count": 7,
   "metadata": {},
   "outputs": [],
   "source": [
    "# Selects the columns\n",
    "X_table = catalog[features_list]\n",
    "y_table = catalog['lp_SFR_best']\n",
    "\n",
    "# Divides data in 70-15-15 ration for test, validation and training\n",
    "X_train, X_test, y_train_SFR, y_test_SFR = train_test_split(X_table, y_table, test_size=0.3, random_state=42)\n",
    "X_test, X_val, y_test_SFR, y_val_SFR = train_test_split(X_test, y_test_SFR, test_size=0.5, random_state=42)\n",
    "\n",
    "train_dataset_SFR = cb.Pool(X_train, y_train_SFR)\n",
    "\n",
    "\n",
    "# Creates and fits ML model to data\n",
    "model_SFR = cb.CatBoostRegressor(nan_mode='Min', silent=True, iterations= 1000, depth=6)\n",
    "model_SFR.fit(X_train, y_train_SFR)\n",
    "\n",
    "# Predicts values from test data\n",
    "y_pred_test_SFR = model_SFR.predict(X_test)\n",
    "\n",
    "# Predicts values from validation\n",
    "y_pred_val_SFR = model_SFR.predict(X_val)"
   ]
  },
  {
   "cell_type": "code",
   "execution_count": null,
   "metadata": {},
   "outputs": [],
   "source": [
    "data_visualization('SFR',y_test_SFR, y_pred_test_SFR,False)"
   ]
  },
  {
   "cell_type": "markdown",
   "metadata": {},
   "source": [
    "data_visualization('SFR',y_val_SFR, y_pred_val_SFR,False)"
   ]
  },
  {
   "cell_type": "code",
   "execution_count": null,
   "metadata": {},
   "outputs": [],
   "source": [
    "plt.hist(y_test_SFR, alpha=0.55, label='y_test_SFR')\n",
    "plt.hist(y_pred_test_SFR, alpha=0.55, label='y_pred_test_SFR')\n",
    "plt.hist(y_pred_val_SFR, alpha=0.55, label='y_pred_val_SFR')\n",
    "plt.legend()\n",
    "plt.show"
   ]
  },
  {
   "cell_type": "code",
   "execution_count": null,
   "metadata": {},
   "outputs": [],
   "source": [
    "# Get ML metrics\n",
    "print('The metrics for test are:')\n",
    "metric_scores_rgr(y_test_SFR, y_pred_test_SFR,False)\n",
    "print('----------------------------------------')\n",
    "print('The metrics for validation are:')\n",
    "metric_scores_rgr(y_val_SFR, y_pred_val_SFR,False)\n",
    "print('----------------------------------------')\n",
    "print(model_SFR.get_all_params())"
   ]
  },
  {
   "cell_type": "code",
   "execution_count": null,
   "metadata": {},
   "outputs": [],
   "source": [
    "shap_explainer(model_SFR,X_test)\n",
    "shap_explainer(model_SFR,X_val)\n",
    "\n",
    "# Pedro Cunha function\n",
    "features_importances = model_SFR.feature_importances_\n",
    "names = list(X_train.columns.values)\n",
    "model_type = 'CatBoost'\n",
    "number_of_columns = 10 \n",
    "plot_feature_importance(features_importances,names,model_type, number_of_columns)"
   ]
  },
  {
   "cell_type": "markdown",
   "metadata": {},
   "source": [
    "### Star-Mass 'lp_mass_best'"
   ]
  },
  {
   "cell_type": "code",
   "execution_count": 8,
   "metadata": {},
   "outputs": [],
   "source": [
    "# Selects the columns\n",
    "X_table = catalog[features_list]\n",
    "y_table = catalog['lp_mass_best']\n",
    "\n",
    "# Divides data in 70-15-15 ration for test, validation and training\n",
    "X_train, X_test, y_train_mass, y_test_mass = train_test_split(X_table, y_table, test_size=0.3, random_state=42)\n",
    "X_test, X_val, y_test_mass, y_val_mass = train_test_split(X_test, y_test_mass, test_size=0.5, random_state=42)\n",
    "\n",
    "train_dataset_mass = cb.Pool(X_train, y_train_mass)\n",
    "\n",
    "# Creates and fits ML model to data\n",
    "model_mass = cb.CatBoostRegressor(nan_mode='Min',\n",
    "                                silent=True,\n",
    "                                iterations= 1000,\n",
    "                                depth=8)\n",
    "model_mass.fit(X_train, y_train_mass)\n",
    "\n",
    "# Predicts values from test data and validation data\n",
    "y_pred_test_mass = model_mass.predict(X_test)\n",
    "y_pred_val_mass = model_mass.predict(X_val)"
   ]
  },
  {
   "cell_type": "code",
   "execution_count": null,
   "metadata": {},
   "outputs": [],
   "source": [
    "data_visualization('mass', y_test_mass, y_pred_test_mass,False)"
   ]
  },
  {
   "cell_type": "code",
   "execution_count": null,
   "metadata": {},
   "outputs": [],
   "source": [
    "data_visualization('mass', y_val_mass, y_pred_val_mass,False)"
   ]
  },
  {
   "cell_type": "code",
   "execution_count": null,
   "metadata": {},
   "outputs": [],
   "source": [
    "plt.hist(y_test_mass, alpha=0.65, label='y_test_mass')\n",
    "plt.hist(y_pred_test_mass, alpha=0.65, label='y_pred_test_mass')\n",
    "plt.hist(y_pred_val_mass, alpha=0.65, label='y_pred_val_mass')\n",
    "plt.legend()\n",
    "\n",
    "# Get ML metrics\n",
    "print('The metrics for test are:')\n",
    "metric_scores_rgr(y_test_mass, y_pred_test_mass,False)\n",
    "print('----------------------------------------')\n",
    "print('The metrics for validation are:')\n",
    "metric_scores_rgr(y_val_mass, y_pred_val_mass,False)"
   ]
  },
  {
   "cell_type": "code",
   "execution_count": null,
   "metadata": {},
   "outputs": [],
   "source": [
    "shap_explainer(model_mass,X_test)\n",
    "shap_explainer(model_mass,X_val)\n",
    "\n",
    "# Pedro Cunha function\n",
    "features_importances = model_mass.feature_importances_\n",
    "names = list(X_train.columns.values)\n",
    "model_type = 'CatBoost'\n",
    "number_of_columns = 10\n",
    "plot_feature_importance(features_importances,names,model_type, number_of_columns)"
   ]
  },
  {
   "cell_type": "markdown",
   "metadata": {},
   "source": [
    "### Age (lp_age)"
   ]
  },
  {
   "cell_type": "code",
   "execution_count": null,
   "metadata": {},
   "outputs": [],
   "source": [
    "# Selects the columns\n",
    "X_table = catalog[features_list]\n",
    "y_table = catalog['lp_age']\n",
    "\n",
    "# Divides data in 70-15-15 ration for test, validation and training\n",
    "X_train, X_test, y_train_age, y_test_age = train_test_split(X_table, y_table, test_size=0.3, random_state=42)\n",
    "X_test, X_val, y_test_age, y_val_age = train_test_split(X_test, y_test_age, test_size=0.5, random_state=42)\n",
    "\n",
    "train_dataset_age = cb.Pool(X_train, y_train_age)\n",
    "\n",
    "# Creates and fits ML model to data\n",
    "model_age = cb.CatBoostRegressor(nan_mode='Min',\n",
    "                                silent=True,\n",
    "                                iterations= 1000,\n",
    "                                depth=8)\n",
    "model_age.fit(X_train, y_train_age)\n",
    "\n",
    "# Predicts values from test data and validation data\n",
    "y_pred_test_age = model_age.predict(X_test)\n",
    "y_pred_val_age = model_age.predict(X_val)"
   ]
  },
  {
   "cell_type": "code",
   "execution_count": null,
   "metadata": {},
   "outputs": [],
   "source": [
    "data_visualization('age', y_test_age, y_pred_test_age,False)"
   ]
  },
  {
   "cell_type": "code",
   "execution_count": null,
   "metadata": {},
   "outputs": [],
   "source": [
    "data_visualization('age', y_val_age, y_pred_val_age,False)"
   ]
  },
  {
   "cell_type": "code",
   "execution_count": null,
   "metadata": {},
   "outputs": [],
   "source": [
    "# Get ML metrics\n",
    "print('The metrics for test are:')\n",
    "metric_scores_rgr(y_test_age, y_pred_test_age,False)\n",
    "print('----------------------------------------')\n",
    "print('The metrics for validation are:')\n",
    "metric_scores_rgr(y_val_age, y_pred_val_age,False)\n",
    "\n",
    "#SHAP\n",
    "shap_explainer(model_age,X_test)\n",
    "shap_explainer(model_age,X_val)\n",
    "\n",
    "# Pedro Cunha function\n",
    "features_importances = model_age.feature_importances_\n",
    "names = list(X_train.columns.values)\n",
    "model_type = 'CatBoost'\n",
    "number_of_columns = 10\n",
    "plot_feature_importance(features_importances,names,model_type, number_of_columns)"
   ]
  },
  {
   "cell_type": "markdown",
   "metadata": {},
   "source": [
    "### Redshift (lp_zBest)"
   ]
  },
  {
   "cell_type": "code",
   "execution_count": null,
   "metadata": {},
   "outputs": [],
   "source": [
    "# Selects the columns\n",
    "X_table = catalog[features_list]\n",
    "y_table = catalog['lp_zBEST']\n",
    "\n",
    "# Divides data in 70-15-15 ration for test, validation and training\n",
    "X_train, X_test, y_train_z, y_test_z = train_test_split(X_table, y_table, test_size=0.3, random_state=42)\n",
    "X_test, X_val, y_test_z, y_val_z = train_test_split(X_test, y_test_z, test_size=0.5, random_state=42)\n",
    "\n",
    "train_dataset_z = cb.Pool(X_train, y_train_z)\n",
    "\n",
    "# Creates and fits ML model to data\n",
    "model_z = cb.CatBoostRegressor(nan_mode='Min',\n",
    "                                silent=True,\n",
    "                                iterations= 1000,\n",
    "                                depth=8)\n",
    "model_z.fit(X_train, y_train_z)\n",
    "\n",
    "# Predicts values from test data and validation data\n",
    "y_pred_test_z = model_z.predict(X_test)\n",
    "y_pred_val_z = model_z.predict(X_val)"
   ]
  },
  {
   "cell_type": "code",
   "execution_count": null,
   "metadata": {},
   "outputs": [],
   "source": [
    "data_visualization('redshift', y_test_z, y_pred_test_z,False)"
   ]
  },
  {
   "cell_type": "code",
   "execution_count": null,
   "metadata": {},
   "outputs": [],
   "source": [
    "data_visualization('redshift', y_val_z, y_pred_val_z,False)"
   ]
  },
  {
   "cell_type": "code",
   "execution_count": null,
   "metadata": {},
   "outputs": [],
   "source": [
    "plt.hist(y_test_z, alpha=0.55, label='y_test_z')\n",
    "plt.hist(y_pred_test_z, alpha=0.55, label='y_pred_test_z')\n",
    "plt.hist(y_pred_val_z, alpha=0.55, label='y_pred_val_z')\n",
    "plt.legend()"
   ]
  },
  {
   "cell_type": "code",
   "execution_count": null,
   "metadata": {},
   "outputs": [],
   "source": [
    "# Get ML metrics\n",
    "print('The metrics for test are:')\n",
    "metric_scores_rgr(y_test_z, y_pred_test_z,True)\n",
    "print('----------------------------------------')\n",
    "print('The metrics for validation are:')\n",
    "metric_scores_rgr(y_val_z, y_pred_val_z,True)\n",
    "\n",
    "# SHAP\n",
    "shap_explainer(model_z,X_test)\n",
    "shap_explainer(model_z,X_val)\n",
    "\n",
    "# Pedro Cunha function\n",
    "features_importances = model_z.feature_importances_ #replace model by your model\n",
    "names = list(X_train.columns.values) #list of the columns from the X_train data set\n",
    "model_type = 'CatBoost' # change according to the model to be used. Only used in the plots.\n",
    "number_of_columns = 10\n",
    "plot_feature_importance(features_importances,names,model_type, number_of_columns)"
   ]
  },
  {
   "cell_type": "markdown",
   "metadata": {},
   "source": [
    "### Dust (lp_dust)"
   ]
  },
  {
   "cell_type": "code",
   "execution_count": null,
   "metadata": {},
   "outputs": [],
   "source": [
    "# Selects the columns\n",
    "X_table = catalog[features_list]\n",
    "y_table = catalog['lp_dust']\n",
    "\n",
    "# Divides data in 70-15-15 ration for test, validation and training\n",
    "X_train, X_test, y_train_dust, y_test_dust = train_test_split(X_table, y_table, test_size=0.3, random_state=42)\n",
    "X_test, X_val, y_test_dust, y_val_dust = train_test_split(X_test, y_test_dust, test_size=0.5, random_state=42)\n",
    "\n",
    "train_dataset_dust = cb.Pool(X_train, y_train_dust)\n",
    "\n",
    "# Creates and fits ML model to data\n",
    "model_dust = cb.CatBoostRegressor(nan_mode='Min',\n",
    "                                silent=True,\n",
    "                                iterations= 1000,\n",
    "                                depth=8)\n",
    "model_dust.fit(X_train, y_train_dust)\n",
    "\n",
    "# Predicts values from test data and validation data\n",
    "y_pred_test_dust = model_dust.predict(X_test)\n",
    "y_pred_val_dust = model_dust.predict(X_val)\n"
   ]
  },
  {
   "cell_type": "code",
   "execution_count": null,
   "metadata": {},
   "outputs": [],
   "source": [
    "data_visualization('dust', y_test_z, y_pred_test_z,False)"
   ]
  },
  {
   "cell_type": "code",
   "execution_count": null,
   "metadata": {},
   "outputs": [],
   "source": [
    "data_visualization('dust', y_val_z, y_pred_val_z,False)"
   ]
  },
  {
   "cell_type": "code",
   "execution_count": null,
   "metadata": {},
   "outputs": [],
   "source": [
    "plt.hist(y_test_dust, alpha=0.55, label='y_test_dust')\n",
    "plt.hist(y_pred_test_dust, alpha=0.55, label='y_pred_test_dust')\n",
    "plt.hist(y_pred_val_dust, alpha=0.55, label='y_pred_val_dust')\n",
    "plt.legend()"
   ]
  },
  {
   "cell_type": "code",
   "execution_count": null,
   "metadata": {},
   "outputs": [],
   "source": [
    "# Get ML metrics\n",
    "print('The metrics for test are:')\n",
    "metric_scores_rgr(y_test_dust, y_pred_test_dust,False)\n",
    "print('----------------------------------------')\n",
    "print('The metrics for validation are:')\n",
    "metric_scores_rgr(y_val_dust, y_pred_val_dust,False)\n",
    "\n",
    "# SHAP \n",
    "shap_explainer(model_dust,X_test)\n",
    "shap_explainer(model_dust,X_val)\n",
    "\n",
    "# Pedro Cunha function\n",
    "features_importances = model_dust.feature_importances_ #replace model by your model\n",
    "names = list(X_train.columns.values) #list of the columns from the X_train data set\n",
    "model_type = 'CatBoost' # change according to the model to be used. Only used in the plots.\n",
    "number_of_columns = 10\n",
    "plot_feature_importance(features_importances,names,model_type, number_of_columns)"
   ]
  },
  {
   "cell_type": "markdown",
   "metadata": {},
   "source": [
    "--------------------\n",
    "## Stellar Mass vs Star Formation Rate"
   ]
  },
  {
   "cell_type": "code",
   "execution_count": 10,
   "metadata": {},
   "outputs": [
    {
     "data": {
      "text/plain": [
       "Text(0, 0.5, 'Star Formation Rate')"
      ]
     },
     "execution_count": 10,
     "metadata": {},
     "output_type": "execute_result"
    },
    {
     "data": {
      "image/png": "[encoded data removed]",
      "text/plain": [
       "<Figure size 640x480 with 1 Axes>"
      ]
     },
     "metadata": {},
     "output_type": "display_data"
    }
   ],
   "source": [
    "plt.scatter(y_pred_test_mass, y_pred_test_SFR, s=0.5)\n",
    "plt.xlabel('Stellar Mass')\n",
    "plt.ylabel('Star Formation Rate')"
   ]
  },
  {
   "cell_type": "code",
   "execution_count": null,
   "metadata": {},
   "outputs": [],
   "source": []
  }
 ],
 "metadata": {
  "kernelspec": {
   "display_name": "Python 3",
   "language": "python",
   "name": "python3"
  },
  "language_info": {
   "codemirror_mode": {
    "name": "ipython",
    "version": 3
   },
   "file_extension": ".py",
   "mimetype": "text/x-python",
   "name": "python",
   "nbconvert_exporter": "python",
   "pygments_lexer": "ipython3",
   "version": "3.9.13"
  },
  "orig_nbformat": 4
 },
 "nbformat": 4,
 "nbformat_minor": 2
}
