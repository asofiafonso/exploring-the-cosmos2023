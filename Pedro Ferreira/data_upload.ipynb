{
 "cells": [
  {
   "cell_type": "code",
   "execution_count": 1,
   "id": "6e715527",
   "metadata": {},
   "outputs": [],
   "source": [
    "import numpy as np \n",
    "from pandas import Series, DataFrame\n",
    "import pandas as pd\n",
    "from astropy import table"
   ]
  },
  {
   "cell_type": "code",
   "execution_count": 2,
   "id": "44503035",
   "metadata": {
    "collapsed": true
   },
   "outputs": [
    {
     "name": "stderr",
     "output_type": "stream",
     "text": [
      "WARNING: UnitsWarning: 'log(solMass)' did not parse as fits unit: 'log' is not a recognized function If this is meant to be a custom unit, define it with 'u.def_unit'. To have it recognized inside a file reader or other code, enable it with 'u.add_enabled_units'. For details, see https://docs.astropy.org/en/latest/units/combining_and_defining.html [astropy.units.core]\n",
      "WARNING: UnitsWarning: 'log(solMass/yr)' did not parse as fits unit: 'log' is not a recognized function If this is meant to be a custom unit, define it with 'u.def_unit'. To have it recognized inside a file reader or other code, enable it with 'u.add_enabled_units'. For details, see https://docs.astropy.org/en/latest/units/combining_and_defining.html [astropy.units.core]\n",
      "WARNING: UnitsWarning: 'log(yr**(-1))' did not parse as fits unit: 'log' is not a recognized function If this is meant to be a custom unit, define it with 'u.def_unit'. To have it recognized inside a file reader or other code, enable it with 'u.add_enabled_units'. For details, see https://docs.astropy.org/en/latest/units/combining_and_defining.html [astropy.units.core]\n",
      "WARNING: UnitsWarning: 'log(solLum)' did not parse as fits unit: 'log' is not a recognized function If this is meant to be a custom unit, define it with 'u.def_unit'. To have it recognized inside a file reader or other code, enable it with 'u.add_enabled_units'. For details, see https://docs.astropy.org/en/latest/units/combining_and_defining.html [astropy.units.core]\n"
     ]
    }
   ],
   "source": [
    "catalogs = ['CLASSIC','FARMER']\n",
    "catalog_classic = table.Table.read(r'D:\\Estágio IA\\data\\COSMOS2020_{}_R1_v2.2_p3.fits'.format(catalogs[0],format='fits',hdu=1))\n",
    "catalog_farmer = table.Table.read(r'D:\\Estágio IA\\data\\COSMOS2020_{}_R1_v2.2_p3.fits'.format(catalogs[1],format='fits',hdu=1))                              "
   ]
  },
  {
   "cell_type": "code",
   "execution_count": 3,
   "id": "dad74977",
   "metadata": {},
   "outputs": [],
   "source": [
    "catalog_classic = catalog_classic[catalog_classic['FLAG_COMBINED'] == 0]\n",
    "catalog_classic = catalog_classic[catalog_classic['lp_type'] == 0]\n",
    "catalog_classic = catalog_classic.to_pandas()"
   ]
  },
  {
   "cell_type": "code",
   "execution_count": 4,
   "id": "894056f4",
   "metadata": {},
   "outputs": [],
   "source": [
    "catalog_farmer = catalog_farmer[catalog_farmer['FLAG_COMBINED'] == 0]\n",
    "catalog_farmer = catalog_farmer[catalog_farmer['lp_type'] == 0]\n",
    "catalog_farmer = catalog_farmer.to_pandas()"
   ]
  },
  {
   "cell_type": "code",
   "execution_count": 5,
   "id": "a921738b",
   "metadata": {},
   "outputs": [],
   "source": [
    "catalog_farmer = catalog_farmer.to_parquet(r'D:\\Estágio IA\\newdata\\catalog_farmer.parquet', index=False)\n",
    "catalog_classic = catalog_classic.to_parquet(r'D:\\Estágio IA\\newdata\\catalog_classic.parquet',index=False)"
   ]
  }
 ],
 "metadata": {
  "kernelspec": {
   "display_name": "Python 3 (ipykernel)",
   "language": "python",
   "name": "python3"
  },
  "language_info": {
   "codemirror_mode": {
    "name": "ipython",
    "version": 3
   },
   "file_extension": ".py",
   "mimetype": "text/x-python",
   "name": "python",
   "nbconvert_exporter": "python",
   "pygments_lexer": "ipython3",
   "version": "3.11.3"
  }
 },
 "nbformat": 4,
 "nbformat_minor": 5
}
